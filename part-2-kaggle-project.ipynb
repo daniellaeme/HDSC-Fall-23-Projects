{
 "cells": [
  {
   "cell_type": "markdown",
   "id": "a1973100",
   "metadata": {
    "papermill": {
     "duration": 0.009498,
     "end_time": "2023-11-21T12:00:29.319518",
     "exception": false,
     "start_time": "2023-11-21T12:00:29.310020",
     "status": "completed"
    },
    "tags": []
   },
   "source": [
    "# **Planet: Understanding the Amazon from Space**"
   ]
  },
  {
   "cell_type": "markdown",
   "id": "2c87ac3b",
   "metadata": {
    "papermill": {
     "duration": 0.008109,
     "end_time": "2023-11-21T12:00:29.336179",
     "exception": false,
     "start_time": "2023-11-21T12:00:29.328070",
     "status": "completed"
    },
    "tags": []
   },
   "source": [
    "# **Neural Network, Image Recognition & Object Detection**"
   ]
  },
  {
   "cell_type": "markdown",
   "id": "bd9783c7",
   "metadata": {
    "papermill": {
     "duration": 0.008049,
     "end_time": "2023-11-21T12:00:29.352488",
     "exception": false,
     "start_time": "2023-11-21T12:00:29.344439",
     "status": "completed"
    },
    "tags": []
   },
   "source": [
    "**Importing the libraries**"
   ]
  },
  {
   "cell_type": "code",
   "execution_count": 1,
   "id": "bd077341",
   "metadata": {
    "execution": {
     "iopub.execute_input": "2023-11-21T12:00:29.370966Z",
     "iopub.status.busy": "2023-11-21T12:00:29.370543Z",
     "iopub.status.idle": "2023-11-21T12:00:37.020898Z",
     "shell.execute_reply": "2023-11-21T12:00:37.020055Z"
    },
    "papermill": {
     "duration": 7.66285,
     "end_time": "2023-11-21T12:00:37.023569",
     "exception": false,
     "start_time": "2023-11-21T12:00:29.360719",
     "status": "completed"
    },
    "tags": []
   },
   "outputs": [],
   "source": [
    "import os\n",
    "import pandas as pd\n",
    "import numpy as np\n",
    "import tensorflow as tf\n",
    "import matplotlib.pyplot as plt\n",
    "\n",
    "import gc\n",
    "import numpy as np\n",
    "\n",
    "from keras import backend as K\n",
    "from sklearn.metrics import fbeta_score\n",
    "from keras.layers import Conv2D, Dense, LSTM, Flatten, MaxPooling2D, BatchNormalization, Dropout\n",
    "from sklearn.model_selection import train_test_split\n",
    "from sklearn.preprocessing import LabelEncoder\n",
    "from sklearn.preprocessing import OneHotEncoder\n",
    "\n",
    "from tensorflow.keras.preprocessing.image import load_img, img_to_array\n",
    "from sklearn.metrics import fbeta_score\n",
    "from tqdm import tqdm\n",
    "from sklearn.utils import shuffle\n",
    "\n",
    "import cv2\n",
    "from PIL import Image\n",
    "from tensorflow import keras\n",
    "from tensorflow.keras.layers import Dense\n",
    "from tensorflow.keras.models import Sequential \n",
    "\n",
    "import seaborn as sns\n",
    "import tensorflow as tf\n",
    "\n",
    "import matplotlib.pyplot as plt\n",
    "import matplotlib.image as mpimg\n",
    "from keras.callbacks import ModelCheckpoint, EarlyStopping, ReduceLROnPlateau, History"
   ]
  },
  {
   "cell_type": "markdown",
   "id": "ea5f58af",
   "metadata": {
    "papermill": {
     "duration": 0.008395,
     "end_time": "2023-11-21T12:00:37.040702",
     "exception": false,
     "start_time": "2023-11-21T12:00:37.032307",
     "status": "completed"
    },
    "tags": []
   },
   "source": [
    "**Loading the datasets**"
   ]
  },
  {
   "cell_type": "code",
   "execution_count": 2,
   "id": "f1e1a2aa",
   "metadata": {
    "execution": {
     "iopub.execute_input": "2023-11-21T12:00:37.060425Z",
     "iopub.status.busy": "2023-11-21T12:00:37.059875Z",
     "iopub.status.idle": "2023-11-21T12:00:37.220016Z",
     "shell.execute_reply": "2023-11-21T12:00:37.218909Z"
    },
    "papermill": {
     "duration": 0.173454,
     "end_time": "2023-11-21T12:00:37.222492",
     "exception": false,
     "start_time": "2023-11-21T12:00:37.049038",
     "status": "completed"
    },
    "tags": []
   },
   "outputs": [
    {
     "data": {
      "text/html": [
       "<div>\n",
       "<style scoped>\n",
       "    .dataframe tbody tr th:only-of-type {\n",
       "        vertical-align: middle;\n",
       "    }\n",
       "\n",
       "    .dataframe tbody tr th {\n",
       "        vertical-align: top;\n",
       "    }\n",
       "\n",
       "    .dataframe thead th {\n",
       "        text-align: right;\n",
       "    }\n",
       "</style>\n",
       "<table border=\"1\" class=\"dataframe\">\n",
       "  <thead>\n",
       "    <tr style=\"text-align: right;\">\n",
       "      <th></th>\n",
       "      <th>image_name</th>\n",
       "      <th>tags</th>\n",
       "    </tr>\n",
       "  </thead>\n",
       "  <tbody>\n",
       "    <tr>\n",
       "      <th>0</th>\n",
       "      <td>train_0</td>\n",
       "      <td>haze primary</td>\n",
       "    </tr>\n",
       "    <tr>\n",
       "      <th>1</th>\n",
       "      <td>train_1</td>\n",
       "      <td>agriculture clear primary water</td>\n",
       "    </tr>\n",
       "    <tr>\n",
       "      <th>2</th>\n",
       "      <td>train_2</td>\n",
       "      <td>clear primary</td>\n",
       "    </tr>\n",
       "    <tr>\n",
       "      <th>3</th>\n",
       "      <td>train_3</td>\n",
       "      <td>clear primary</td>\n",
       "    </tr>\n",
       "    <tr>\n",
       "      <th>4</th>\n",
       "      <td>train_4</td>\n",
       "      <td>agriculture clear habitation primary road</td>\n",
       "    </tr>\n",
       "  </tbody>\n",
       "</table>\n",
       "</div>"
      ],
      "text/plain": [
       "  image_name                                       tags\n",
       "0    train_0                               haze primary\n",
       "1    train_1            agriculture clear primary water\n",
       "2    train_2                              clear primary\n",
       "3    train_3                              clear primary\n",
       "4    train_4  agriculture clear habitation primary road"
      ]
     },
     "execution_count": 2,
     "metadata": {},
     "output_type": "execute_result"
    }
   ],
   "source": [
    "#reading the labels\n",
    "\n",
    "train_label = pd.read_csv('../input/planets-dataset/planet/planet/train_classes.csv')\n",
    "sam_sub = pd.read_csv('../input/planets-dataset/planet/planet/sample_submission.csv')\n",
    "train_label.head()"
   ]
  },
  {
   "cell_type": "code",
   "execution_count": 3,
   "id": "56a5048b",
   "metadata": {
    "execution": {
     "iopub.execute_input": "2023-11-21T12:00:37.244073Z",
     "iopub.status.busy": "2023-11-21T12:00:37.243706Z",
     "iopub.status.idle": "2023-11-21T12:00:37.248333Z",
     "shell.execute_reply": "2023-11-21T12:00:37.247423Z"
    },
    "papermill": {
     "duration": 0.018037,
     "end_time": "2023-11-21T12:00:37.250647",
     "exception": false,
     "start_time": "2023-11-21T12:00:37.232610",
     "status": "completed"
    },
    "tags": []
   },
   "outputs": [],
   "source": [
    "#onehot=OneHotEncoder()\n",
    "\n",
    "encoder = LabelEncoder()"
   ]
  },
  {
   "cell_type": "code",
   "execution_count": 4,
   "id": "5f7fe3aa",
   "metadata": {
    "execution": {
     "iopub.execute_input": "2023-11-21T12:00:37.271693Z",
     "iopub.status.busy": "2023-11-21T12:00:37.271355Z",
     "iopub.status.idle": "2023-11-21T12:00:37.291534Z",
     "shell.execute_reply": "2023-11-21T12:00:37.290597Z"
    },
    "papermill": {
     "duration": 0.033619,
     "end_time": "2023-11-21T12:00:37.294010",
     "exception": false,
     "start_time": "2023-11-21T12:00:37.260391",
     "status": "completed"
    },
    "tags": []
   },
   "outputs": [
    {
     "data": {
      "text/html": [
       "<div>\n",
       "<style scoped>\n",
       "    .dataframe tbody tr th:only-of-type {\n",
       "        vertical-align: middle;\n",
       "    }\n",
       "\n",
       "    .dataframe tbody tr th {\n",
       "        vertical-align: top;\n",
       "    }\n",
       "\n",
       "    .dataframe thead th {\n",
       "        text-align: right;\n",
       "    }\n",
       "</style>\n",
       "<table border=\"1\" class=\"dataframe\">\n",
       "  <thead>\n",
       "    <tr style=\"text-align: right;\">\n",
       "      <th></th>\n",
       "      <th>tags</th>\n",
       "      <th>map</th>\n",
       "    </tr>\n",
       "  </thead>\n",
       "  <tbody>\n",
       "    <tr>\n",
       "      <th>0</th>\n",
       "      <td>agriculture</td>\n",
       "      <td>0</td>\n",
       "    </tr>\n",
       "    <tr>\n",
       "      <th>1</th>\n",
       "      <td>artisinal_mine</td>\n",
       "      <td>1</td>\n",
       "    </tr>\n",
       "    <tr>\n",
       "      <th>2</th>\n",
       "      <td>bare_ground</td>\n",
       "      <td>2</td>\n",
       "    </tr>\n",
       "    <tr>\n",
       "      <th>3</th>\n",
       "      <td>blooming</td>\n",
       "      <td>3</td>\n",
       "    </tr>\n",
       "    <tr>\n",
       "      <th>4</th>\n",
       "      <td>blow_down</td>\n",
       "      <td>4</td>\n",
       "    </tr>\n",
       "    <tr>\n",
       "      <th>5</th>\n",
       "      <td>clear</td>\n",
       "      <td>5</td>\n",
       "    </tr>\n",
       "    <tr>\n",
       "      <th>6</th>\n",
       "      <td>cloudy</td>\n",
       "      <td>6</td>\n",
       "    </tr>\n",
       "    <tr>\n",
       "      <th>7</th>\n",
       "      <td>conventional_mine</td>\n",
       "      <td>7</td>\n",
       "    </tr>\n",
       "    <tr>\n",
       "      <th>8</th>\n",
       "      <td>cultivation</td>\n",
       "      <td>8</td>\n",
       "    </tr>\n",
       "    <tr>\n",
       "      <th>9</th>\n",
       "      <td>habitation</td>\n",
       "      <td>9</td>\n",
       "    </tr>\n",
       "    <tr>\n",
       "      <th>10</th>\n",
       "      <td>haze</td>\n",
       "      <td>10</td>\n",
       "    </tr>\n",
       "    <tr>\n",
       "      <th>11</th>\n",
       "      <td>partly_cloudy</td>\n",
       "      <td>11</td>\n",
       "    </tr>\n",
       "    <tr>\n",
       "      <th>12</th>\n",
       "      <td>primary</td>\n",
       "      <td>12</td>\n",
       "    </tr>\n",
       "    <tr>\n",
       "      <th>13</th>\n",
       "      <td>road</td>\n",
       "      <td>13</td>\n",
       "    </tr>\n",
       "    <tr>\n",
       "      <th>14</th>\n",
       "      <td>selective_logging</td>\n",
       "      <td>14</td>\n",
       "    </tr>\n",
       "    <tr>\n",
       "      <th>15</th>\n",
       "      <td>slash_burn</td>\n",
       "      <td>15</td>\n",
       "    </tr>\n",
       "    <tr>\n",
       "      <th>16</th>\n",
       "      <td>water</td>\n",
       "      <td>16</td>\n",
       "    </tr>\n",
       "  </tbody>\n",
       "</table>\n",
       "</div>"
      ],
      "text/plain": [
       "                 tags  map\n",
       "0         agriculture    0\n",
       "1      artisinal_mine    1\n",
       "2         bare_ground    2\n",
       "3            blooming    3\n",
       "4           blow_down    4\n",
       "5               clear    5\n",
       "6              cloudy    6\n",
       "7   conventional_mine    7\n",
       "8         cultivation    8\n",
       "9          habitation    9\n",
       "10               haze   10\n",
       "11      partly_cloudy   11\n",
       "12            primary   12\n",
       "13               road   13\n",
       "14  selective_logging   14\n",
       "15         slash_burn   15\n",
       "16              water   16"
      ]
     },
     "execution_count": 4,
     "metadata": {},
     "output_type": "execute_result"
    }
   ],
   "source": [
    "#encoder.fit(train_label['tags'])\n",
    "\n",
    "label_maps = pd.DataFrame()\n",
    "label_maps['tags'] = ['agriculture', 'artisinal_mine', 'bare_ground','blooming','blow_down','clear','cloudy','conventional_mine','cultivation','habitation','haze', 'partly_cloudy','primary','road','selective_logging','slash_burn','water']\n",
    "label_maps['map'] = encoder.fit_transform(label_maps['tags'])\n",
    "label_maps"
   ]
  },
  {
   "cell_type": "code",
   "execution_count": 5,
   "id": "f1dd5102",
   "metadata": {
    "execution": {
     "iopub.execute_input": "2023-11-21T12:00:37.314946Z",
     "iopub.status.busy": "2023-11-21T12:00:37.314600Z",
     "iopub.status.idle": "2023-11-21T12:00:37.321036Z",
     "shell.execute_reply": "2023-11-21T12:00:37.320078Z"
    },
    "papermill": {
     "duration": 0.019261,
     "end_time": "2023-11-21T12:00:37.323269",
     "exception": false,
     "start_time": "2023-11-21T12:00:37.304008",
     "status": "completed"
    },
    "tags": []
   },
   "outputs": [],
   "source": [
    "#defining a dict of encoded labels\n",
    "\n",
    "label_map = {'agriculture': 0,\n",
    " 'artisinal_mine': 1,\n",
    " 'bare_ground': 2,\n",
    " 'blooming': 3,\n",
    " 'blow_down': 4,\n",
    " 'clear': 5,\n",
    " 'cloudy': 6,\n",
    " 'conventional_mine': 7,\n",
    " 'cultivation': 8,\n",
    " 'habitation': 9,\n",
    " 'haze': 10,\n",
    " 'partly_cloudy': 11,\n",
    " 'primary': 12,\n",
    " 'road': 13,\n",
    " 'selective_logging': 14,\n",
    " 'slash_burn': 15,\n",
    " 'water': 16}\n"
   ]
  },
  {
   "cell_type": "code",
   "execution_count": 6,
   "id": "0e6e24c8",
   "metadata": {
    "execution": {
     "iopub.execute_input": "2023-11-21T12:00:37.344382Z",
     "iopub.status.busy": "2023-11-21T12:00:37.344068Z",
     "iopub.status.idle": "2023-11-21T12:00:37.356358Z",
     "shell.execute_reply": "2023-11-21T12:00:37.355560Z"
    },
    "papermill": {
     "duration": 0.025255,
     "end_time": "2023-11-21T12:00:37.358537",
     "exception": false,
     "start_time": "2023-11-21T12:00:37.333282",
     "status": "completed"
    },
    "tags": []
   },
   "outputs": [],
   "source": [
    "#loading the traing_images\n",
    "\n",
    "X = []\n",
    "Y = []\n",
    "train_label = shuffle(train_label,random_state=0)"
   ]
  },
  {
   "cell_type": "code",
   "execution_count": 7,
   "id": "09029995",
   "metadata": {
    "execution": {
     "iopub.execute_input": "2023-11-21T12:00:37.379338Z",
     "iopub.status.busy": "2023-11-21T12:00:37.379048Z",
     "iopub.status.idle": "2023-11-21T12:05:05.721920Z",
     "shell.execute_reply": "2023-11-21T12:05:05.720776Z"
    },
    "papermill": {
     "duration": 268.356326,
     "end_time": "2023-11-21T12:05:05.724835",
     "exception": false,
     "start_time": "2023-11-21T12:00:37.368509",
     "status": "completed"
    },
    "tags": []
   },
   "outputs": [
    {
     "name": "stderr",
     "output_type": "stream",
     "text": [
      "100%|██████████| 40479/40479 [04:28<00:00, 150.85it/s]\n"
     ]
    }
   ],
   "source": [
    "for image_name, tags in tqdm(train_label.values, miniters=400):\n",
    "    arr = cv2.imread('../input/planets-dataset/planet/planet/train-jpg/{}.jpg'.format(image_name), cv2.IMREAD_UNCHANGED)\n",
    "    targets = np.zeros(17)\n",
    "    for t in tags.split(' '):\n",
    "      targets[label_map[t]] = 1 \n",
    "    arr = cv2.resize(arr, (64, 64))\n",
    "    X.append(arr)\n",
    "    Y.append(targets)"
   ]
  },
  {
   "cell_type": "code",
   "execution_count": 8,
   "id": "cbad0970",
   "metadata": {
    "execution": {
     "iopub.execute_input": "2023-11-21T12:05:05.761243Z",
     "iopub.status.busy": "2023-11-21T12:05:05.760925Z",
     "iopub.status.idle": "2023-11-21T12:05:15.437409Z",
     "shell.execute_reply": "2023-11-21T12:05:15.436324Z"
    },
    "papermill": {
     "duration": 9.700348,
     "end_time": "2023-11-21T12:05:15.443140",
     "exception": false,
     "start_time": "2023-11-21T12:05:05.742792",
     "status": "completed"
    },
    "tags": []
   },
   "outputs": [],
   "source": [
    "X = np.array(X, np.float16)/255.0"
   ]
  },
  {
   "cell_type": "code",
   "execution_count": 9,
   "id": "b07b9505",
   "metadata": {
    "execution": {
     "iopub.execute_input": "2023-11-21T12:05:15.481311Z",
     "iopub.status.busy": "2023-11-21T12:05:15.480746Z",
     "iopub.status.idle": "2023-11-21T12:05:16.197319Z",
     "shell.execute_reply": "2023-11-21T12:05:16.195789Z"
    },
    "papermill": {
     "duration": 0.73856,
     "end_time": "2023-11-21T12:05:16.199596",
     "exception": false,
     "start_time": "2023-11-21T12:05:15.461036",
     "status": "completed"
    },
    "tags": []
   },
   "outputs": [
    {
     "name": "stdout",
     "output_type": "stream",
     "text": [
      "(32383, 64, 64, 3) (32383, 17) (8096, 64, 64, 3) (8096, 17)\n"
     ]
    }
   ],
   "source": [
    "#splitting\n",
    "\n",
    "X = np.array(X)\n",
    "Y = np.array(Y)\n",
    "x_train, x_val, y_train, y_val = train_test_split(X, Y, test_size = 0.2, shuffle = True, random_state = 1)\n",
    "\n",
    "print(x_train.shape, y_train.shape, x_val.shape, y_val.shape)"
   ]
  },
  {
   "cell_type": "code",
   "execution_count": 10,
   "id": "d4244a24",
   "metadata": {
    "execution": {
     "iopub.execute_input": "2023-11-21T12:05:16.239949Z",
     "iopub.status.busy": "2023-11-21T12:05:16.239595Z",
     "iopub.status.idle": "2023-11-21T12:05:16.414215Z",
     "shell.execute_reply": "2023-11-21T12:05:16.413184Z"
    },
    "papermill": {
     "duration": 0.195594,
     "end_time": "2023-11-21T12:05:16.416593",
     "exception": false,
     "start_time": "2023-11-21T12:05:16.220999",
     "status": "completed"
    },
    "tags": []
   },
   "outputs": [
    {
     "data": {
      "text/plain": [
       "126"
      ]
     },
     "execution_count": 10,
     "metadata": {},
     "output_type": "execute_result"
    }
   ],
   "source": [
    "del X, Y\n",
    "gc.collect()"
   ]
  },
  {
   "cell_type": "code",
   "execution_count": 11,
   "id": "2ee111a8",
   "metadata": {
    "execution": {
     "iopub.execute_input": "2023-11-21T12:05:16.453421Z",
     "iopub.status.busy": "2023-11-21T12:05:16.452532Z",
     "iopub.status.idle": "2023-11-21T12:05:16.603972Z",
     "shell.execute_reply": "2023-11-21T12:05:16.602818Z"
    },
    "papermill": {
     "duration": 0.171912,
     "end_time": "2023-11-21T12:05:16.606324",
     "exception": false,
     "start_time": "2023-11-21T12:05:16.434412",
     "status": "completed"
    },
    "tags": []
   },
   "outputs": [
    {
     "data": {
      "text/plain": [
       "21"
      ]
     },
     "execution_count": 11,
     "metadata": {},
     "output_type": "execute_result"
    }
   ],
   "source": [
    "gc.collect()"
   ]
  },
  {
   "cell_type": "code",
   "execution_count": 12,
   "id": "1fd36b0b",
   "metadata": {
    "execution": {
     "iopub.execute_input": "2023-11-21T12:05:16.644161Z",
     "iopub.status.busy": "2023-11-21T12:05:16.643462Z",
     "iopub.status.idle": "2023-11-21T12:05:16.652184Z",
     "shell.execute_reply": "2023-11-21T12:05:16.651194Z"
    },
    "papermill": {
     "duration": 0.03025,
     "end_time": "2023-11-21T12:05:16.654116",
     "exception": false,
     "start_time": "2023-11-21T12:05:16.623866",
     "status": "completed"
    },
    "tags": []
   },
   "outputs": [],
   "source": [
    "def fbeta(y_true, y_pred, threshold_shift=0):\n",
    "    beta = 2\n",
    "\n",
    "    # just in case of hipster activation at the final layer\n",
    "    y_pred = K.clip(y_pred, 0, 1)\n",
    "\n",
    "    # shifting the prediction threshold from .5 if needed\n",
    "    y_pred_bin = K.round(y_pred + threshold_shift)\n",
    "\n",
    "    tp = K.sum(K.round(y_true * y_pred_bin)) + K.epsilon()\n",
    "    fp = K.sum(K.round(K.clip(y_pred_bin - y_true, 0, 1)))\n",
    "    fn = K.sum(K.round(K.clip(y_true - y_pred, 0, 1)))\n",
    "\n",
    "    precision = tp / (tp + fp)\n",
    "    recall = tp / (tp + fn)\n",
    "\n",
    "    beta_squared = beta ** 2\n",
    "    return (beta_squared + 1) * (precision * recall) / (beta_squared * precision + recall + K.epsilon())"
   ]
  },
  {
   "cell_type": "code",
   "execution_count": 13,
   "id": "6926fa31",
   "metadata": {
    "execution": {
     "iopub.execute_input": "2023-11-21T12:05:16.691184Z",
     "iopub.status.busy": "2023-11-21T12:05:16.690504Z",
     "iopub.status.idle": "2023-11-21T12:05:16.695838Z",
     "shell.execute_reply": "2023-11-21T12:05:16.694948Z"
    },
    "papermill": {
     "duration": 0.026264,
     "end_time": "2023-11-21T12:05:16.697942",
     "exception": false,
     "start_time": "2023-11-21T12:05:16.671678",
     "status": "completed"
    },
    "tags": []
   },
   "outputs": [],
   "source": [
    "from tensorflow.keras.optimizers import Adam"
   ]
  },
  {
   "cell_type": "markdown",
   "id": "15bd11fb",
   "metadata": {
    "papermill": {
     "duration": 0.017549,
     "end_time": "2023-11-21T12:05:16.732960",
     "exception": false,
     "start_time": "2023-11-21T12:05:16.715411",
     "status": "completed"
    },
    "tags": []
   },
   "source": [
    "**Define the model**"
   ]
  },
  {
   "cell_type": "code",
   "execution_count": 14,
   "id": "eef47fb5",
   "metadata": {
    "execution": {
     "iopub.execute_input": "2023-11-21T12:05:16.769278Z",
     "iopub.status.busy": "2023-11-21T12:05:16.768979Z",
     "iopub.status.idle": "2023-11-21T12:08:47.522108Z",
     "shell.execute_reply": "2023-11-21T12:08:47.518679Z"
    },
    "papermill": {
     "duration": 210.964237,
     "end_time": "2023-11-21T12:08:47.714781",
     "exception": false,
     "start_time": "2023-11-21T12:05:16.750544",
     "status": "completed"
    },
    "tags": []
   },
   "outputs": [
    {
     "name": "stdout",
     "output_type": "stream",
     "text": [
      "Epoch 1/45\n",
      "506/506 [==============================] - 14s 9ms/step - loss: 0.2243 - fbeta: 0.6421 - val_loss: 0.2006 - val_fbeta: 0.6577\n",
      "Epoch 2/45\n",
      "506/506 [==============================] - 3s 6ms/step - loss: 0.1992 - fbeta: 0.6831 - val_loss: 0.1925 - val_fbeta: 0.7185\n",
      "Epoch 3/45\n",
      "506/506 [==============================] - 3s 6ms/step - loss: 0.1867 - fbeta: 0.7080 - val_loss: 0.1781 - val_fbeta: 0.7352\n",
      "Epoch 4/45\n",
      "506/506 [==============================] - 3s 6ms/step - loss: 0.1726 - fbeta: 0.7323 - val_loss: 0.1639 - val_fbeta: 0.7566\n",
      "Epoch 5/45\n",
      "506/506 [==============================] - 3s 6ms/step - loss: 0.1631 - fbeta: 0.7498 - val_loss: 0.1609 - val_fbeta: 0.7556\n",
      "Epoch 6/45\n",
      "506/506 [==============================] - 3s 6ms/step - loss: 0.1574 - fbeta: 0.7589 - val_loss: 0.1600 - val_fbeta: 0.7678\n",
      "Epoch 7/45\n",
      "506/506 [==============================] - 3s 6ms/step - loss: 0.1528 - fbeta: 0.7654 - val_loss: 0.1473 - val_fbeta: 0.7724\n",
      "Epoch 8/45\n",
      "506/506 [==============================] - 3s 6ms/step - loss: 0.1491 - fbeta: 0.7709 - val_loss: 0.1483 - val_fbeta: 0.7604\n",
      "Epoch 9/45\n",
      "506/506 [==============================] - 3s 6ms/step - loss: 0.1449 - fbeta: 0.7779 - val_loss: 0.1407 - val_fbeta: 0.7764\n",
      "Epoch 10/45\n",
      "506/506 [==============================] - 3s 6ms/step - loss: 0.1425 - fbeta: 0.7817 - val_loss: 0.1417 - val_fbeta: 0.7690\n",
      "Epoch 11/45\n",
      "506/506 [==============================] - 3s 6ms/step - loss: 0.1401 - fbeta: 0.7866 - val_loss: 0.1434 - val_fbeta: 0.7760\n",
      "Epoch 12/45\n",
      "506/506 [==============================] - 3s 6ms/step - loss: 0.1376 - fbeta: 0.7916 - val_loss: 0.1437 - val_fbeta: 0.7921\n",
      "Epoch 13/45\n",
      "506/506 [==============================] - 3s 6ms/step - loss: 0.1358 - fbeta: 0.7947 - val_loss: 0.1377 - val_fbeta: 0.7861\n",
      "Epoch 14/45\n",
      "506/506 [==============================] - 3s 6ms/step - loss: 0.1337 - fbeta: 0.7975 - val_loss: 0.1350 - val_fbeta: 0.8081\n",
      "Epoch 15/45\n",
      "506/506 [==============================] - 3s 6ms/step - loss: 0.1313 - fbeta: 0.8016 - val_loss: 0.1375 - val_fbeta: 0.7895\n",
      "Epoch 16/45\n",
      "506/506 [==============================] - 3s 6ms/step - loss: 0.1298 - fbeta: 0.8052 - val_loss: 0.1371 - val_fbeta: 0.8071\n",
      "Epoch 17/45\n",
      "506/506 [==============================] - 3s 6ms/step - loss: 0.1278 - fbeta: 0.8078 - val_loss: 0.1369 - val_fbeta: 0.8026\n",
      "Epoch 18/45\n",
      "506/506 [==============================] - 3s 6ms/step - loss: 0.1261 - fbeta: 0.8109 - val_loss: 0.1333 - val_fbeta: 0.8052\n",
      "Epoch 19/45\n",
      "506/506 [==============================] - 3s 6ms/step - loss: 0.1236 - fbeta: 0.8145 - val_loss: 0.1325 - val_fbeta: 0.8046\n",
      "Epoch 20/45\n",
      "506/506 [==============================] - 3s 6ms/step - loss: 0.1216 - fbeta: 0.8181 - val_loss: 0.1319 - val_fbeta: 0.8055\n",
      "Epoch 21/45\n",
      "506/506 [==============================] - 3s 6ms/step - loss: 0.1202 - fbeta: 0.8217 - val_loss: 0.1356 - val_fbeta: 0.8038\n",
      "Epoch 22/45\n",
      "506/506 [==============================] - 3s 6ms/step - loss: 0.1182 - fbeta: 0.8243 - val_loss: 0.1365 - val_fbeta: 0.7975\n",
      "Epoch 23/45\n",
      "506/506 [==============================] - 3s 6ms/step - loss: 0.1165 - fbeta: 0.8279 - val_loss: 0.1337 - val_fbeta: 0.8101\n",
      "Epoch 24/45\n",
      "506/506 [==============================] - 3s 6ms/step - loss: 0.1143 - fbeta: 0.8323 - val_loss: 0.1377 - val_fbeta: 0.8085\n",
      "Epoch 25/45\n",
      "506/506 [==============================] - 3s 6ms/step - loss: 0.1120 - fbeta: 0.8354 - val_loss: 0.1320 - val_fbeta: 0.8148\n",
      "Epoch 26/45\n",
      "506/506 [==============================] - 3s 6ms/step - loss: 0.1099 - fbeta: 0.8393 - val_loss: 0.1421 - val_fbeta: 0.8064\n",
      "Epoch 27/45\n",
      "506/506 [==============================] - 3s 6ms/step - loss: 0.1077 - fbeta: 0.8429 - val_loss: 0.1385 - val_fbeta: 0.8026\n",
      "Epoch 28/45\n",
      "506/506 [==============================] - 3s 6ms/step - loss: 0.1056 - fbeta: 0.8457 - val_loss: 0.1360 - val_fbeta: 0.8118\n",
      "Epoch 29/45\n",
      "506/506 [==============================] - 3s 6ms/step - loss: 0.1035 - fbeta: 0.8504 - val_loss: 0.1406 - val_fbeta: 0.8106\n",
      "Epoch 30/45\n",
      "506/506 [==============================] - 3s 6ms/step - loss: 0.1018 - fbeta: 0.8528 - val_loss: 0.1424 - val_fbeta: 0.8211\n",
      "Epoch 31/45\n",
      "506/506 [==============================] - 3s 6ms/step - loss: 0.0999 - fbeta: 0.8554 - val_loss: 0.1452 - val_fbeta: 0.8088\n",
      "Epoch 32/45\n",
      "506/506 [==============================] - 3s 6ms/step - loss: 0.0972 - fbeta: 0.8606 - val_loss: 0.1435 - val_fbeta: 0.8154\n",
      "Epoch 33/45\n",
      "506/506 [==============================] - 3s 6ms/step - loss: 0.0957 - fbeta: 0.8638 - val_loss: 0.1520 - val_fbeta: 0.8211\n",
      "Epoch 34/45\n",
      "506/506 [==============================] - 3s 6ms/step - loss: 0.0929 - fbeta: 0.8684 - val_loss: 0.1468 - val_fbeta: 0.8219\n",
      "Epoch 35/45\n",
      "506/506 [==============================] - 3s 6ms/step - loss: 0.0911 - fbeta: 0.8712 - val_loss: 0.1499 - val_fbeta: 0.8182\n",
      "Epoch 36/45\n",
      "506/506 [==============================] - 3s 6ms/step - loss: 0.0883 - fbeta: 0.8751 - val_loss: 0.1506 - val_fbeta: 0.8185\n",
      "Epoch 37/45\n",
      "506/506 [==============================] - 3s 6ms/step - loss: 0.0867 - fbeta: 0.8781 - val_loss: 0.1531 - val_fbeta: 0.8072\n",
      "Epoch 38/45\n",
      "506/506 [==============================] - 3s 6ms/step - loss: 0.0848 - fbeta: 0.8804 - val_loss: 0.1617 - val_fbeta: 0.8163\n",
      "Epoch 39/45\n",
      "506/506 [==============================] - 3s 6ms/step - loss: 0.0826 - fbeta: 0.8843 - val_loss: 0.1629 - val_fbeta: 0.8086\n",
      "Epoch 40/45\n",
      "506/506 [==============================] - 3s 6ms/step - loss: 0.0797 - fbeta: 0.8885 - val_loss: 0.1654 - val_fbeta: 0.8174\n",
      "Epoch 41/45\n",
      "506/506 [==============================] - 3s 6ms/step - loss: 0.0782 - fbeta: 0.8916 - val_loss: 0.1706 - val_fbeta: 0.8185\n",
      "Epoch 42/45\n",
      "506/506 [==============================] - 3s 6ms/step - loss: 0.0759 - fbeta: 0.8957 - val_loss: 0.1718 - val_fbeta: 0.8193\n",
      "Epoch 43/45\n",
      "506/506 [==============================] - 3s 6ms/step - loss: 0.0739 - fbeta: 0.8983 - val_loss: 0.1781 - val_fbeta: 0.8184\n",
      "Epoch 44/45\n",
      "506/506 [==============================] - 3s 6ms/step - loss: 0.0719 - fbeta: 0.9013 - val_loss: 0.1791 - val_fbeta: 0.8174\n",
      "Epoch 45/45\n",
      "506/506 [==============================] - 3s 6ms/step - loss: 0.0702 - fbeta: 0.9038 - val_loss: 0.1889 - val_fbeta: 0.8105\n"
     ]
    },
    {
     "data": {
      "text/plain": [
       "<keras.callbacks.History at 0x79d5fff51d50>"
      ]
     },
     "execution_count": 14,
     "metadata": {},
     "output_type": "execute_result"
    }
   ],
   "source": [
    "model = keras.Sequential()\n",
    "model.add(Conv2D(64, 5, 2, activation = \"relu\", input_shape = (64, 64, 3)))\n",
    "model.add(MaxPooling2D())\n",
    "model.add(Conv2D(128, 5, 2, activation = \"relu\"))\n",
    "model.add(MaxPooling2D())\n",
    "model.add(Flatten())\n",
    "model.add(Dense(512, activation = \"relu\"))\n",
    "model.add(Dense(17, activation = \"sigmoid\"))\n",
    "model.compile(loss = \"binary_crossentropy\", optimizer = Adam(), metrics = [fbeta])\n",
    "model.fit(x_train, y_train, validation_data = (x_val, y_val), epochs = 45, batch_size = 64)"
   ]
  },
  {
   "cell_type": "code",
   "execution_count": 15,
   "id": "7250e890",
   "metadata": {
    "execution": {
     "iopub.execute_input": "2023-11-21T12:08:48.116433Z",
     "iopub.status.busy": "2023-11-21T12:08:48.115492Z",
     "iopub.status.idle": "2023-11-21T12:08:48.404574Z",
     "shell.execute_reply": "2023-11-21T12:08:48.403569Z"
    },
    "papermill": {
     "duration": 0.495557,
     "end_time": "2023-11-21T12:08:48.406994",
     "exception": false,
     "start_time": "2023-11-21T12:08:47.911437",
     "status": "completed"
    },
    "tags": []
   },
   "outputs": [
    {
     "data": {
      "text/plain": [
       "1765"
      ]
     },
     "execution_count": 15,
     "metadata": {},
     "output_type": "execute_result"
    }
   ],
   "source": [
    "gc.collect()"
   ]
  },
  {
   "cell_type": "code",
   "execution_count": 16,
   "id": "17bdcc68",
   "metadata": {
    "execution": {
     "iopub.execute_input": "2023-11-21T12:08:48.856851Z",
     "iopub.status.busy": "2023-11-21T12:08:48.855989Z",
     "iopub.status.idle": "2023-11-21T12:08:50.905486Z",
     "shell.execute_reply": "2023-11-21T12:08:50.904416Z"
    },
    "papermill": {
     "duration": 2.251935,
     "end_time": "2023-11-21T12:08:50.907913",
     "exception": false,
     "start_time": "2023-11-21T12:08:48.655978",
     "status": "completed"
    },
    "tags": []
   },
   "outputs": [
    {
     "name": "stdout",
     "output_type": "stream",
     "text": [
      "253/253 [==============================] - 1s 3ms/step - loss: 0.1889 - fbeta: 0.8108\n",
      "Test loss: 0.18889395892620087\n",
      "Test accuracy: 0.8108479976654053\n"
     ]
    }
   ],
   "source": [
    "#with tpu_strategy.scope():\n",
    "\n",
    "test_loss, test_accuracy = model.evaluate(x_val, y_val)\n",
    "print('Test loss: {}'.format(test_loss))\n",
    "print('Test accuracy: {}'.format(test_accuracy))"
   ]
  },
  {
   "cell_type": "code",
   "execution_count": 17,
   "id": "e0aba0a6",
   "metadata": {
    "execution": {
     "iopub.execute_input": "2023-11-21T12:08:51.304115Z",
     "iopub.status.busy": "2023-11-21T12:08:51.303720Z",
     "iopub.status.idle": "2023-11-21T12:08:51.500033Z",
     "shell.execute_reply": "2023-11-21T12:08:51.498947Z"
    },
    "papermill": {
     "duration": 0.396804,
     "end_time": "2023-11-21T12:08:51.502487",
     "exception": false,
     "start_time": "2023-11-21T12:08:51.105683",
     "status": "completed"
    },
    "tags": []
   },
   "outputs": [
    {
     "data": {
      "text/plain": [
       "788"
      ]
     },
     "execution_count": 17,
     "metadata": {},
     "output_type": "execute_result"
    }
   ],
   "source": [
    "gc.collect()"
   ]
  },
  {
   "cell_type": "code",
   "execution_count": 18,
   "id": "f069d65c",
   "metadata": {
    "execution": {
     "iopub.execute_input": "2023-11-21T12:08:51.893797Z",
     "iopub.status.busy": "2023-11-21T12:08:51.892953Z",
     "iopub.status.idle": "2023-11-21T12:08:52.065939Z",
     "shell.execute_reply": "2023-11-21T12:08:52.065000Z"
    },
    "papermill": {
     "duration": 0.372182,
     "end_time": "2023-11-21T12:08:52.067928",
     "exception": false,
     "start_time": "2023-11-21T12:08:51.695746",
     "status": "completed"
    },
    "tags": []
   },
   "outputs": [
    {
     "data": {
      "text/plain": [
       "21"
      ]
     },
     "execution_count": 18,
     "metadata": {},
     "output_type": "execute_result"
    }
   ],
   "source": [
    "del x_train, y_train, x_val, y_val\n",
    "gc.collect()"
   ]
  },
  {
   "cell_type": "code",
   "execution_count": 19,
   "id": "77960eec",
   "metadata": {
    "execution": {
     "iopub.execute_input": "2023-11-21T12:08:52.457728Z",
     "iopub.status.busy": "2023-11-21T12:08:52.456543Z",
     "iopub.status.idle": "2023-11-21T12:08:52.461902Z",
     "shell.execute_reply": "2023-11-21T12:08:52.460968Z"
    },
    "papermill": {
     "duration": 0.203876,
     "end_time": "2023-11-21T12:08:52.463975",
     "exception": false,
     "start_time": "2023-11-21T12:08:52.260099",
     "status": "completed"
    },
    "tags": []
   },
   "outputs": [],
   "source": [
    "#dividing my test_labels into two part for test-jpg and test-jpg-additional\n",
    "test = sam_sub[0 : 40669]\n",
    "files = sam_sub[40669 : ]"
   ]
  },
  {
   "cell_type": "code",
   "execution_count": 20,
   "id": "9ee4664e",
   "metadata": {
    "execution": {
     "iopub.execute_input": "2023-11-21T12:08:52.917809Z",
     "iopub.status.busy": "2023-11-21T12:08:52.917378Z",
     "iopub.status.idle": "2023-11-21T12:15:58.375792Z",
     "shell.execute_reply": "2023-11-21T12:15:58.374915Z"
    },
    "papermill": {
     "duration": 425.683162,
     "end_time": "2023-11-21T12:15:58.378269",
     "exception": false,
     "start_time": "2023-11-21T12:08:52.695107",
     "status": "completed"
    },
    "tags": []
   },
   "outputs": [
    {
     "name": "stderr",
     "output_type": "stream",
     "text": [
      "100%|██████████| 40669/40669 [04:35<00:00, 147.45it/s]\n",
      "100%|██████████| 20522/20522 [02:15<00:00, 151.74it/s]\n"
     ]
    }
   ],
   "source": [
    "#with tpu_strategy.scope():  \n",
    "\n",
    "test_img = []\n",
    "\n",
    "for image_name, tags in tqdm(test.values, miniters=1000):\n",
    "    arr = cv2.imread('../input/planets-dataset/planet/planet/test-jpg/{}.jpg'.format(image_name))\n",
    "    test_img.append(cv2.resize(arr, (64, 64)))\n",
    "\n",
    "for image_name, tags in tqdm(files.values, miniters=1000):\n",
    "    arr = cv2.imread('../input/planets-dataset/test-jpg-additional/test-jpg-additional/{}.jpg'.format(image_name))\n",
    "    test_img.append(cv2.resize(arr, (64, 64)))\n",
    "\n",
    "test_img = np.array(test_img, np.float16)/255.0"
   ]
  },
  {
   "cell_type": "code",
   "execution_count": 21,
   "id": "c188e466",
   "metadata": {
    "execution": {
     "iopub.execute_input": "2023-11-21T12:15:58.797844Z",
     "iopub.status.busy": "2023-11-21T12:15:58.797079Z",
     "iopub.status.idle": "2023-11-21T12:15:58.975785Z",
     "shell.execute_reply": "2023-11-21T12:15:58.974759Z"
    },
    "papermill": {
     "duration": 0.39231,
     "end_time": "2023-11-21T12:15:58.978056",
     "exception": false,
     "start_time": "2023-11-21T12:15:58.585746",
     "status": "completed"
    },
    "tags": []
   },
   "outputs": [
    {
     "data": {
      "text/plain": [
       "63"
      ]
     },
     "execution_count": 21,
     "metadata": {},
     "output_type": "execute_result"
    }
   ],
   "source": [
    "gc.collect()"
   ]
  },
  {
   "cell_type": "code",
   "execution_count": 22,
   "id": "c1aaf9c5",
   "metadata": {
    "execution": {
     "iopub.execute_input": "2023-11-21T12:15:59.411490Z",
     "iopub.status.busy": "2023-11-21T12:15:59.410672Z",
     "iopub.status.idle": "2023-11-21T12:16:09.694475Z",
     "shell.execute_reply": "2023-11-21T12:16:09.693666Z"
    },
    "papermill": {
     "duration": 10.502423,
     "end_time": "2023-11-21T12:16:09.696692",
     "exception": false,
     "start_time": "2023-11-21T12:15:59.194269",
     "status": "completed"
    },
    "tags": []
   },
   "outputs": [
    {
     "name": "stdout",
     "output_type": "stream",
     "text": [
      "957/957 - 2s\n"
     ]
    }
   ],
   "source": [
    "#with tpu_strategy.scope():\n",
    "\n",
    "yres = []\n",
    "predictions = model.predict(test_img, batch_size = 64, verbose = 2)\n",
    "yres.append(predictions)"
   ]
  },
  {
   "cell_type": "code",
   "execution_count": 23,
   "id": "7927ff43",
   "metadata": {
    "execution": {
     "iopub.execute_input": "2023-11-21T12:16:10.098374Z",
     "iopub.status.busy": "2023-11-21T12:16:10.098006Z",
     "iopub.status.idle": "2023-11-21T12:16:10.435806Z",
     "shell.execute_reply": "2023-11-21T12:16:10.434838Z"
    },
    "papermill": {
     "duration": 0.542511,
     "end_time": "2023-11-21T12:16:10.437976",
     "exception": false,
     "start_time": "2023-11-21T12:16:09.895465",
     "status": "completed"
    },
    "tags": []
   },
   "outputs": [
    {
     "data": {
      "text/plain": [
       "781"
      ]
     },
     "execution_count": 23,
     "metadata": {},
     "output_type": "execute_result"
    }
   ],
   "source": [
    "gc.collect()"
   ]
  },
  {
   "cell_type": "code",
   "execution_count": 24,
   "id": "b1a50409",
   "metadata": {
    "execution": {
     "iopub.execute_input": "2023-11-21T12:16:10.885502Z",
     "iopub.status.busy": "2023-11-21T12:16:10.884623Z",
     "iopub.status.idle": "2023-11-21T12:16:10.891543Z",
     "shell.execute_reply": "2023-11-21T12:16:10.890666Z"
    },
    "papermill": {
     "duration": 0.209194,
     "end_time": "2023-11-21T12:16:10.893601",
     "exception": false,
     "start_time": "2023-11-21T12:16:10.684407",
     "status": "completed"
    },
    "tags": []
   },
   "outputs": [],
   "source": [
    "#converting my encoded labels back to it original form\n",
    "\n",
    "sub = np.array(yres[0])\n",
    "for i in range (1, len(yres)):\n",
    "    sub += np.array(yres[i])\n",
    "sub = pd.DataFrame(sub, columns = label_map)"
   ]
  },
  {
   "cell_type": "code",
   "execution_count": 25,
   "id": "72eda6fe",
   "metadata": {
    "execution": {
     "iopub.execute_input": "2023-11-21T12:16:11.301741Z",
     "iopub.status.busy": "2023-11-21T12:16:11.301354Z",
     "iopub.status.idle": "2023-11-21T12:16:11.339964Z",
     "shell.execute_reply": "2023-11-21T12:16:11.338999Z"
    },
    "papermill": {
     "duration": 0.242714,
     "end_time": "2023-11-21T12:16:11.342004",
     "exception": false,
     "start_time": "2023-11-21T12:16:11.099290",
     "status": "completed"
    },
    "tags": []
   },
   "outputs": [
    {
     "data": {
      "text/html": [
       "<div>\n",
       "<style scoped>\n",
       "    .dataframe tbody tr th:only-of-type {\n",
       "        vertical-align: middle;\n",
       "    }\n",
       "\n",
       "    .dataframe tbody tr th {\n",
       "        vertical-align: top;\n",
       "    }\n",
       "\n",
       "    .dataframe thead th {\n",
       "        text-align: right;\n",
       "    }\n",
       "</style>\n",
       "<table border=\"1\" class=\"dataframe\">\n",
       "  <thead>\n",
       "    <tr style=\"text-align: right;\">\n",
       "      <th></th>\n",
       "      <th>agriculture</th>\n",
       "      <th>artisinal_mine</th>\n",
       "      <th>bare_ground</th>\n",
       "      <th>blooming</th>\n",
       "      <th>blow_down</th>\n",
       "      <th>clear</th>\n",
       "      <th>cloudy</th>\n",
       "      <th>conventional_mine</th>\n",
       "      <th>cultivation</th>\n",
       "      <th>habitation</th>\n",
       "      <th>haze</th>\n",
       "      <th>partly_cloudy</th>\n",
       "      <th>primary</th>\n",
       "      <th>road</th>\n",
       "      <th>selective_logging</th>\n",
       "      <th>slash_burn</th>\n",
       "      <th>water</th>\n",
       "    </tr>\n",
       "  </thead>\n",
       "  <tbody>\n",
       "    <tr>\n",
       "      <th>0</th>\n",
       "      <td>6.079806e-04</td>\n",
       "      <td>6.474367e-12</td>\n",
       "      <td>6.717495e-05</td>\n",
       "      <td>1.773575e-02</td>\n",
       "      <td>7.155618e-05</td>\n",
       "      <td>9.998248e-01</td>\n",
       "      <td>1.816512e-06</td>\n",
       "      <td>1.789870e-13</td>\n",
       "      <td>2.356217e-04</td>\n",
       "      <td>5.046153e-04</td>\n",
       "      <td>1.635612e-04</td>\n",
       "      <td>3.168952e-06</td>\n",
       "      <td>0.999998</td>\n",
       "      <td>0.001842</td>\n",
       "      <td>9.562597e-04</td>\n",
       "      <td>6.021023e-12</td>\n",
       "      <td>5.956087e-03</td>\n",
       "    </tr>\n",
       "    <tr>\n",
       "      <th>1</th>\n",
       "      <td>4.678944e-02</td>\n",
       "      <td>2.995439e-13</td>\n",
       "      <td>8.554623e-06</td>\n",
       "      <td>9.127068e-04</td>\n",
       "      <td>1.163081e-03</td>\n",
       "      <td>9.791436e-01</td>\n",
       "      <td>5.117465e-09</td>\n",
       "      <td>6.041782e-14</td>\n",
       "      <td>2.658501e-03</td>\n",
       "      <td>2.709416e-03</td>\n",
       "      <td>3.938048e-06</td>\n",
       "      <td>9.108572e-02</td>\n",
       "      <td>1.000000</td>\n",
       "      <td>0.068570</td>\n",
       "      <td>3.306898e-03</td>\n",
       "      <td>1.793497e-08</td>\n",
       "      <td>1.627048e-02</td>\n",
       "    </tr>\n",
       "    <tr>\n",
       "      <th>2</th>\n",
       "      <td>7.686615e-03</td>\n",
       "      <td>1.468751e-19</td>\n",
       "      <td>1.346648e-12</td>\n",
       "      <td>2.801653e-13</td>\n",
       "      <td>2.003494e-15</td>\n",
       "      <td>3.894727e-10</td>\n",
       "      <td>6.154454e-09</td>\n",
       "      <td>2.138062e-10</td>\n",
       "      <td>2.430274e-05</td>\n",
       "      <td>3.731662e-09</td>\n",
       "      <td>1.159789e-09</td>\n",
       "      <td>1.000000e+00</td>\n",
       "      <td>1.000000</td>\n",
       "      <td>0.000035</td>\n",
       "      <td>9.742698e-11</td>\n",
       "      <td>2.905090e-13</td>\n",
       "      <td>8.205881e-07</td>\n",
       "    </tr>\n",
       "    <tr>\n",
       "      <th>3</th>\n",
       "      <td>4.985751e-02</td>\n",
       "      <td>1.384151e-10</td>\n",
       "      <td>2.237543e-04</td>\n",
       "      <td>3.372225e-02</td>\n",
       "      <td>4.497180e-03</td>\n",
       "      <td>5.810994e-01</td>\n",
       "      <td>4.748921e-07</td>\n",
       "      <td>1.480399e-10</td>\n",
       "      <td>1.205053e-02</td>\n",
       "      <td>9.471998e-04</td>\n",
       "      <td>1.940431e-04</td>\n",
       "      <td>4.293733e-01</td>\n",
       "      <td>0.999998</td>\n",
       "      <td>0.050536</td>\n",
       "      <td>4.491268e-03</td>\n",
       "      <td>2.472032e-07</td>\n",
       "      <td>2.194459e-02</td>\n",
       "    </tr>\n",
       "    <tr>\n",
       "      <th>4</th>\n",
       "      <td>4.616207e-05</td>\n",
       "      <td>2.449752e-18</td>\n",
       "      <td>6.998695e-09</td>\n",
       "      <td>7.623086e-15</td>\n",
       "      <td>7.381484e-21</td>\n",
       "      <td>1.187862e-09</td>\n",
       "      <td>4.967587e-05</td>\n",
       "      <td>2.588602e-16</td>\n",
       "      <td>2.226848e-10</td>\n",
       "      <td>3.904257e-09</td>\n",
       "      <td>1.701862e-06</td>\n",
       "      <td>9.997093e-01</td>\n",
       "      <td>0.994975</td>\n",
       "      <td>0.002624</td>\n",
       "      <td>1.215637e-12</td>\n",
       "      <td>3.854685e-14</td>\n",
       "      <td>2.806645e-08</td>\n",
       "    </tr>\n",
       "    <tr>\n",
       "      <th>...</th>\n",
       "      <td>...</td>\n",
       "      <td>...</td>\n",
       "      <td>...</td>\n",
       "      <td>...</td>\n",
       "      <td>...</td>\n",
       "      <td>...</td>\n",
       "      <td>...</td>\n",
       "      <td>...</td>\n",
       "      <td>...</td>\n",
       "      <td>...</td>\n",
       "      <td>...</td>\n",
       "      <td>...</td>\n",
       "      <td>...</td>\n",
       "      <td>...</td>\n",
       "      <td>...</td>\n",
       "      <td>...</td>\n",
       "      <td>...</td>\n",
       "    </tr>\n",
       "    <tr>\n",
       "      <th>61186</th>\n",
       "      <td>3.519040e-07</td>\n",
       "      <td>5.002523e-17</td>\n",
       "      <td>1.758182e-13</td>\n",
       "      <td>7.811859e-19</td>\n",
       "      <td>3.655650e-27</td>\n",
       "      <td>6.274769e-06</td>\n",
       "      <td>9.931329e-01</td>\n",
       "      <td>5.282598e-21</td>\n",
       "      <td>7.405851e-10</td>\n",
       "      <td>1.917516e-05</td>\n",
       "      <td>1.781940e-04</td>\n",
       "      <td>3.798243e-03</td>\n",
       "      <td>0.014600</td>\n",
       "      <td>0.000424</td>\n",
       "      <td>3.896679e-19</td>\n",
       "      <td>3.296821e-23</td>\n",
       "      <td>1.300437e-02</td>\n",
       "    </tr>\n",
       "    <tr>\n",
       "      <th>61187</th>\n",
       "      <td>1.942565e-02</td>\n",
       "      <td>2.485626e-11</td>\n",
       "      <td>3.058632e-04</td>\n",
       "      <td>4.020042e-12</td>\n",
       "      <td>1.470043e-16</td>\n",
       "      <td>1.000000e+00</td>\n",
       "      <td>8.258623e-18</td>\n",
       "      <td>1.084238e-07</td>\n",
       "      <td>3.381441e-01</td>\n",
       "      <td>7.349682e-04</td>\n",
       "      <td>7.054944e-13</td>\n",
       "      <td>3.797730e-12</td>\n",
       "      <td>0.999993</td>\n",
       "      <td>0.000893</td>\n",
       "      <td>1.287340e-13</td>\n",
       "      <td>5.688529e-07</td>\n",
       "      <td>9.997994e-01</td>\n",
       "    </tr>\n",
       "    <tr>\n",
       "      <th>61188</th>\n",
       "      <td>6.046855e-02</td>\n",
       "      <td>5.229619e-12</td>\n",
       "      <td>4.650133e-04</td>\n",
       "      <td>3.830188e-02</td>\n",
       "      <td>1.378356e-02</td>\n",
       "      <td>9.995938e-01</td>\n",
       "      <td>1.610991e-07</td>\n",
       "      <td>4.545773e-12</td>\n",
       "      <td>4.621901e-02</td>\n",
       "      <td>4.252904e-03</td>\n",
       "      <td>9.084596e-05</td>\n",
       "      <td>1.618130e-04</td>\n",
       "      <td>0.999998</td>\n",
       "      <td>0.236670</td>\n",
       "      <td>1.716364e-02</td>\n",
       "      <td>3.312732e-06</td>\n",
       "      <td>6.765600e-02</td>\n",
       "    </tr>\n",
       "    <tr>\n",
       "      <th>61189</th>\n",
       "      <td>1.389206e-03</td>\n",
       "      <td>2.438409e-15</td>\n",
       "      <td>6.196442e-10</td>\n",
       "      <td>9.935658e-17</td>\n",
       "      <td>3.639938e-20</td>\n",
       "      <td>1.726933e-03</td>\n",
       "      <td>9.434649e-01</td>\n",
       "      <td>1.282464e-15</td>\n",
       "      <td>5.233046e-04</td>\n",
       "      <td>1.298685e-04</td>\n",
       "      <td>7.881738e-02</td>\n",
       "      <td>5.480288e-06</td>\n",
       "      <td>0.050786</td>\n",
       "      <td>0.000450</td>\n",
       "      <td>3.034259e-13</td>\n",
       "      <td>2.507864e-19</td>\n",
       "      <td>4.773716e-03</td>\n",
       "    </tr>\n",
       "    <tr>\n",
       "      <th>61190</th>\n",
       "      <td>1.117035e-02</td>\n",
       "      <td>2.481856e-10</td>\n",
       "      <td>1.545569e-04</td>\n",
       "      <td>6.860545e-19</td>\n",
       "      <td>1.400521e-32</td>\n",
       "      <td>9.542091e-01</td>\n",
       "      <td>3.575247e-01</td>\n",
       "      <td>3.419345e-10</td>\n",
       "      <td>2.053616e-05</td>\n",
       "      <td>9.999930e-01</td>\n",
       "      <td>1.943634e-05</td>\n",
       "      <td>5.261640e-04</td>\n",
       "      <td>0.463279</td>\n",
       "      <td>0.999981</td>\n",
       "      <td>5.066386e-14</td>\n",
       "      <td>1.390932e-17</td>\n",
       "      <td>5.171483e-03</td>\n",
       "    </tr>\n",
       "  </tbody>\n",
       "</table>\n",
       "<p>61191 rows × 17 columns</p>\n",
       "</div>"
      ],
      "text/plain": [
       "        agriculture  artisinal_mine   bare_ground      blooming     blow_down  \\\n",
       "0      6.079806e-04    6.474367e-12  6.717495e-05  1.773575e-02  7.155618e-05   \n",
       "1      4.678944e-02    2.995439e-13  8.554623e-06  9.127068e-04  1.163081e-03   \n",
       "2      7.686615e-03    1.468751e-19  1.346648e-12  2.801653e-13  2.003494e-15   \n",
       "3      4.985751e-02    1.384151e-10  2.237543e-04  3.372225e-02  4.497180e-03   \n",
       "4      4.616207e-05    2.449752e-18  6.998695e-09  7.623086e-15  7.381484e-21   \n",
       "...             ...             ...           ...           ...           ...   \n",
       "61186  3.519040e-07    5.002523e-17  1.758182e-13  7.811859e-19  3.655650e-27   \n",
       "61187  1.942565e-02    2.485626e-11  3.058632e-04  4.020042e-12  1.470043e-16   \n",
       "61188  6.046855e-02    5.229619e-12  4.650133e-04  3.830188e-02  1.378356e-02   \n",
       "61189  1.389206e-03    2.438409e-15  6.196442e-10  9.935658e-17  3.639938e-20   \n",
       "61190  1.117035e-02    2.481856e-10  1.545569e-04  6.860545e-19  1.400521e-32   \n",
       "\n",
       "              clear        cloudy  conventional_mine   cultivation  \\\n",
       "0      9.998248e-01  1.816512e-06       1.789870e-13  2.356217e-04   \n",
       "1      9.791436e-01  5.117465e-09       6.041782e-14  2.658501e-03   \n",
       "2      3.894727e-10  6.154454e-09       2.138062e-10  2.430274e-05   \n",
       "3      5.810994e-01  4.748921e-07       1.480399e-10  1.205053e-02   \n",
       "4      1.187862e-09  4.967587e-05       2.588602e-16  2.226848e-10   \n",
       "...             ...           ...                ...           ...   \n",
       "61186  6.274769e-06  9.931329e-01       5.282598e-21  7.405851e-10   \n",
       "61187  1.000000e+00  8.258623e-18       1.084238e-07  3.381441e-01   \n",
       "61188  9.995938e-01  1.610991e-07       4.545773e-12  4.621901e-02   \n",
       "61189  1.726933e-03  9.434649e-01       1.282464e-15  5.233046e-04   \n",
       "61190  9.542091e-01  3.575247e-01       3.419345e-10  2.053616e-05   \n",
       "\n",
       "         habitation          haze  partly_cloudy   primary      road  \\\n",
       "0      5.046153e-04  1.635612e-04   3.168952e-06  0.999998  0.001842   \n",
       "1      2.709416e-03  3.938048e-06   9.108572e-02  1.000000  0.068570   \n",
       "2      3.731662e-09  1.159789e-09   1.000000e+00  1.000000  0.000035   \n",
       "3      9.471998e-04  1.940431e-04   4.293733e-01  0.999998  0.050536   \n",
       "4      3.904257e-09  1.701862e-06   9.997093e-01  0.994975  0.002624   \n",
       "...             ...           ...            ...       ...       ...   \n",
       "61186  1.917516e-05  1.781940e-04   3.798243e-03  0.014600  0.000424   \n",
       "61187  7.349682e-04  7.054944e-13   3.797730e-12  0.999993  0.000893   \n",
       "61188  4.252904e-03  9.084596e-05   1.618130e-04  0.999998  0.236670   \n",
       "61189  1.298685e-04  7.881738e-02   5.480288e-06  0.050786  0.000450   \n",
       "61190  9.999930e-01  1.943634e-05   5.261640e-04  0.463279  0.999981   \n",
       "\n",
       "       selective_logging    slash_burn         water  \n",
       "0           9.562597e-04  6.021023e-12  5.956087e-03  \n",
       "1           3.306898e-03  1.793497e-08  1.627048e-02  \n",
       "2           9.742698e-11  2.905090e-13  8.205881e-07  \n",
       "3           4.491268e-03  2.472032e-07  2.194459e-02  \n",
       "4           1.215637e-12  3.854685e-14  2.806645e-08  \n",
       "...                  ...           ...           ...  \n",
       "61186       3.896679e-19  3.296821e-23  1.300437e-02  \n",
       "61187       1.287340e-13  5.688529e-07  9.997994e-01  \n",
       "61188       1.716364e-02  3.312732e-06  6.765600e-02  \n",
       "61189       3.034259e-13  2.507864e-19  4.773716e-03  \n",
       "61190       5.066386e-14  1.390932e-17  5.171483e-03  \n",
       "\n",
       "[61191 rows x 17 columns]"
      ]
     },
     "execution_count": 25,
     "metadata": {},
     "output_type": "execute_result"
    }
   ],
   "source": [
    "sub"
   ]
  },
  {
   "cell_type": "code",
   "execution_count": 26,
   "id": "fc93ce03",
   "metadata": {
    "execution": {
     "iopub.execute_input": "2023-11-21T12:16:11.746852Z",
     "iopub.status.busy": "2023-11-21T12:16:11.746469Z",
     "iopub.status.idle": "2023-11-21T12:18:11.734290Z",
     "shell.execute_reply": "2023-11-21T12:18:11.732620Z"
    },
    "papermill": {
     "duration": 120.190341,
     "end_time": "2023-11-21T12:18:11.736589",
     "exception": false,
     "start_time": "2023-11-21T12:16:11.546248",
     "status": "completed"
    },
    "tags": []
   },
   "outputs": [
    {
     "name": "stderr",
     "output_type": "stream",
     "text": [
      "100%|██████████| 61191/61191 [01:59<00:00, 510.76it/s]\n"
     ]
    }
   ],
   "source": [
    "preds = []\n",
    "for i in tqdm(range(sub.shape[0]), miniters=1000):\n",
    "    a = sub.loc[[i]]\n",
    "    a = a.apply(lambda x: x > 0.2, axis=1)\n",
    "    a = a.transpose()\n",
    "    a= a.loc[a[i] == True]\n",
    "    ' '.join(list(a.index))\n",
    "    preds.append(' '.join(list(a.index)))\n",
    "\n",
    "sam_sub['tags'] = preds\n",
    "sam_sub.to_csv('submission.csv', index=False)"
   ]
  }
 ],
 "metadata": {
  "kaggle": {
   "accelerator": "nvidiaTeslaT4",
   "dataSources": [
    {
     "databundleVersionId": 868312,
     "sourceId": 6322,
     "sourceType": "competition"
    },
    {
     "datasetId": 503255,
     "sourceId": 938046,
     "sourceType": "datasetVersion"
    }
   ],
   "dockerImageVersionId": 30357,
   "isGpuEnabled": true,
   "isInternetEnabled": true,
   "language": "python",
   "sourceType": "notebook"
  },
  "kernelspec": {
   "display_name": "Python 3",
   "language": "python",
   "name": "python3"
  },
  "language_info": {
   "codemirror_mode": {
    "name": "ipython",
    "version": 3
   },
   "file_extension": ".py",
   "mimetype": "text/x-python",
   "name": "python",
   "nbconvert_exporter": "python",
   "pygments_lexer": "ipython3",
   "version": "3.7.12"
  },
  "papermill": {
   "default_parameters": {},
   "duration": 1076.109061,
   "end_time": "2023-11-21T12:18:15.654744",
   "environment_variables": {},
   "exception": null,
   "input_path": "__notebook__.ipynb",
   "output_path": "__notebook__.ipynb",
   "parameters": {},
   "start_time": "2023-11-21T12:00:19.545683",
   "version": "2.3.4"
  }
 },
 "nbformat": 4,
 "nbformat_minor": 5
}
